{
 "cells": [
  {
   "cell_type": "markdown",
   "id": "1095acc7-e3db-4b61-acab-3896b5b9b224",
   "metadata": {},
   "source": [
    "<br>\n",
    "\n",
    "## EDA\n",
    "\n",
    "---\n",
    "\n",
    "In this notebook I will walk through a simple exploration of the Python files contained within The Stack dataset."
   ]
  },
  {
   "cell_type": "markdown",
   "id": "301bbfa9-922e-41f3-935b-4236632f2db1",
   "metadata": {},
   "source": [
    "<br>\n",
    "\n",
    "### IMPORTS\n",
    "\n",
    "---\n",
    "\n"
   ]
  },
  {
   "cell_type": "code",
   "execution_count": 12,
   "id": "90d5ab3a-75f2-4687-b436-b3b8436b8346",
   "metadata": {},
   "outputs": [
    {
     "name": "stderr",
     "output_type": "stream",
     "text": [
      "\u001b[34m\u001b[1mwandb\u001b[0m: Currently logged in as: \u001b[33mds08tf\u001b[0m (\u001b[33mds-ml\u001b[0m). Use \u001b[1m`wandb login --relogin`\u001b[0m to force relogin\n"
     ]
    }
   ],
   "source": [
    "import tensorflow as tf\n",
    "import pandas as pd\n",
    "import numpy as np\n",
    "import params\n",
    "import wandb; wandb.login()\n",
    "import sys\n",
    "import os\n",
    "\n",
    "# add the cllm-data-curation library to the path\n",
    "sys.path.insert(0, \"/home/paperspace/home/cllm-data-curation\")\n",
    "\n",
    "# We will show these functions when required\n",
    "from cllm_data_curation.thestack_curation.curation_utils import make_meta_df\n",
    "from cllm_data_curation.thestack_curation.curation_utils import filter_meta_languages\n",
    "from cllm_data_curation.thestack_curation.curation_utils import open_pq_as_df\n",
    "from cllm_data_curation.thestack_curation.curation_utils import flatten_l_o_l\n",
    "from cllm_data_curation.thestack_curation.curation_utils import print_ln\n",
    "from cllm_data_curation.thestack_curation.curation_utils import read_json_file\n",
    "from cllm_data_curation.thestack_curation.curation_utils import glob_pq_paths\n",
    "from cllm_data_curation.thestack_curation.curation_utils import get_dir_size\n",
    "from cllm_data_curation.thestack_curation.curation_utils import replace_byte_encoded_string\n",
    "from cllm_data_curation.thestack_curation.curation_utils import contains_repeating_substring\n",
    "from cllm_data_curation.thestack_curation.general_utils import get_optimal_worker_count"
   ]
  },
  {
   "cell_type": "markdown",
   "id": "9f5167dc-65f9-4528-93c1-7229d98ac29e",
   "metadata": {},
   "source": [
    "<br>\n",
    "\n",
    "### **`ConfigBuilder`**\n",
    "\n",
    "---\n",
    "\n",
    "A useful class to keep track of various configurations throughout the course of exploration"
   ]
  },
  {
   "cell_type": "code",
   "execution_count": 18,
   "id": "0b746770-717c-44ab-9686-6d6219000f5d",
   "metadata": {},
   "outputs": [
    {
     "data": {
      "text/plain": [
       "    **** DEMO CONFIG ATTRIBUTES ****    \n",
       "--- 'name'               --> 'demo'\n",
       "--- 'height'             --> 6\n",
       "--- 'width'              --> 100\n",
       "--- 'style'              --> 'cat'"
      ]
     },
     "execution_count": 18,
     "metadata": {},
     "output_type": "execute_result"
    }
   ],
   "source": [
    "class ConfigBuilder():\n",
    "    def __init__(self, name, **kwargs):\n",
    "        self.name = name\n",
    "        if kwargs:\n",
    "            for k,v in kwargs.items(): setattr(self, k,v)\n",
    "\n",
    "    def add_attr(self, key, value):\n",
    "        setattr(self, key, value)\n",
    "\n",
    "    def update(self, **kwargs):\n",
    "        for key, value in kwargs.items():\n",
    "            if hasattr(self, key):\n",
    "                setattr(self, key, value)\n",
    "            else:\n",
    "                raise AttributeError(f\"{key} not found in Config\")\n",
    "\n",
    "    def to_dict(self):\n",
    "        return vars(self)   \n",
    "    \n",
    "    def __repr__(self):\n",
    "        return f\"{'**** '+self.name.upper()+' CONFIG ATTRIBUTES ****':^40}\\n\"+\\\n",
    "               \"\\n\".join([f\"--- {repr(k):<20} --> {repr(v)}\" for k,v in self.__dict__.items()])\n",
    "\n",
    "\n",
    "ConfigBuilder(\"demo\", **{\"height\":6, \"width\":100, \"style\":\"cat\"})"
   ]
  },
  {
   "cell_type": "markdown",
   "id": "ec29a267-cb8b-4e22-87d0-011d9ec783e6",
   "metadata": {},
   "source": [
    "<br>\n",
    "\n",
    "### WANDB CONSTANTS\n",
    "\n",
    "---\n",
    "\n",
    "Here is where we initialize the constants we will use within **`WANDB`**"
   ]
  },
  {
   "cell_type": "code",
   "execution_count": 19,
   "id": "f0010cd3-8dba-4ac1-9de8-cc0281d39669",
   "metadata": {},
   "outputs": [
    {
     "data": {
      "text/plain": [
       "   **** WANDB CONFIG ATTRIBUTES ****    \n",
       "--- 'name'               --> 'wandb'\n",
       "--- 'project'            --> 'pystack'\n",
       "--- 'entity'             --> None"
      ]
     },
     "execution_count": 19,
     "metadata": {},
     "output_type": "execute_result"
    }
   ],
   "source": [
    "wandb_config = ConfigBuilder(\"wandb\")\n",
    "\n",
    "WANDB_PROJECT = \"pystack\"\n",
    "wandb_config.add_attr(\"project\", WANDB_PROJECT)\n",
    "\n",
    "ENTITY = None # set this to team name if working in a team\n",
    "wandb_config.add_attr(\"entity\", ENTITY)\n",
    "\n",
    "wandb_config"
   ]
  },
  {
   "cell_type": "markdown",
   "id": "e1eb1852-0cac-4a5d-9f4f-27d28a897cb3",
   "metadata": {},
   "source": [
    "<br>\n",
    "\n",
    "### NOTEBOOK CONSTANTS\n",
    "\n",
    "---\n",
    "\n",
    "These will be saved in a special config that we use in our notebook."
   ]
  },
  {
   "cell_type": "code",
   "execution_count": 20,
   "id": "20ae4299-d35e-48af-8aba-3f515bc28e7a",
   "metadata": {},
   "outputs": [
    {
     "data": {
      "text/plain": [
       "  **** NOTEBOOK CONFIG ATTRIBUTES ****  \n",
       "--- 'name'               --> 'notebook'\n",
       "--- 'debug'              --> True\n",
       "--- 'project_dir'        --> '/home/paperspace/home/python-stack'\n",
       "--- 'data_dir'           --> '/home/paperspace/home/python-stack/data'\n",
       "--- 'working_dir'        --> '/home/paperspace/home/python-stack/notebooks'"
      ]
     },
     "execution_count": 20,
     "metadata": {},
     "output_type": "execute_result"
    }
   ],
   "source": [
    "nb_config = ConfigBuilder(\"notebook\")\n",
    "\n",
    "# 1. Add a flag for debugging purposes\n",
    "#   - setting this flag to True will use only a small subset of the data\n",
    "DEBUG = True \n",
    "nb_config.add_attr(\"debug\", DEBUG)\n",
    "\n",
    "# 2. Add file and path information \n",
    "nb_config.add_attr(\"project_dir\", \"/home/paperspace/home/python-stack\")\n",
    "nb_config.add_attr(\"data_dir\", os.path.join(nb_config.project_dir, \"data\"))\n",
    "nb_config.add_attr(\"working_dir\", os.getcwd())\n",
    "\n",
    "nb_config"
   ]
  },
  {
   "cell_type": "code",
   "execution_count": 11,
   "id": "47324a94-e284-481e-90f6-b9b0e35f05dc",
   "metadata": {},
   "outputs": [
    {
     "name": "stderr",
     "output_type": "stream",
     "text": [
      "\u001b[34m\u001b[1mwandb\u001b[0m: Logging into wandb.ai. (Learn how to deploy a W&B server locally: https://wandb.me/wandb-server)\n",
      "\u001b[34m\u001b[1mwandb\u001b[0m: You can find your API key in your browser here: https://wandb.ai/authorize\n",
      "\u001b[34m\u001b[1mwandb\u001b[0m: Paste an API key from your profile and hit enter, or press ctrl+c to quit:"
     ]
    },
    {
     "name": "stdin",
     "output_type": "stream",
     "text": [
      "  ········\n"
     ]
    },
    {
     "name": "stderr",
     "output_type": "stream",
     "text": [
      "\u001b[34m\u001b[1mwandb\u001b[0m: \u001b[32m\u001b[41mERROR\u001b[0m API key must be 40 characters long, yours was 9\n",
      "\u001b[34m\u001b[1mwandb\u001b[0m: Logging into wandb.ai. (Learn how to deploy a W&B server locally: https://wandb.me/wandb-server)\n",
      "\u001b[34m\u001b[1mwandb\u001b[0m: You can find your API key in your browser here: https://wandb.ai/authorize\n",
      "\u001b[34m\u001b[1mwandb\u001b[0m: Paste an API key from your profile and hit enter, or press ctrl+c to quit:"
     ]
    },
    {
     "name": "stdin",
     "output_type": "stream",
     "text": [
      "  ········\n"
     ]
    },
    {
     "name": "stderr",
     "output_type": "stream",
     "text": [
      "\u001b[34m\u001b[1mwandb\u001b[0m: Appending key for api.wandb.ai to your netrc file: /home/paperspace/.netrc\n"
     ]
    },
    {
     "data": {
      "text/plain": [
       "True"
      ]
     },
     "execution_count": 11,
     "metadata": {},
     "output_type": "execute_result"
    }
   ],
   "source": [
    "run = wandb.init(**wandb_config.to_dict(), job_type=\"upload\")\n",
    "raw_data = wandb.Artifact(nb_config.data_dir, type=\"raw_data\")"
   ]
  },
  {
   "cell_type": "code",
   "execution_count": 14,
   "id": "224f6ff4-c4a7-4104-a52d-6c13a08c3c69",
   "metadata": {},
   "outputs": [
    {
     "ename": "AttributeError",
     "evalue": "module 'params' has no attribute 'WANDB_PROJECT'",
     "output_type": "error",
     "traceback": [
      "\u001b[0;31m---------------------------------------------------------------------------\u001b[0m",
      "\u001b[0;31mAttributeError\u001b[0m                            Traceback (most recent call last)",
      "Cell \u001b[0;32mIn [14], line 1\u001b[0m\n\u001b[0;32m----> 1\u001b[0m \u001b[43mparams\u001b[49m\u001b[38;5;241;43m.\u001b[39;49m\u001b[43mWANDB_PROJECT\u001b[49m,\n",
      "\u001b[0;31mAttributeError\u001b[0m: module 'params' has no attribute 'WANDB_PROJECT'"
     ]
    }
   ],
   "source": [
    "params.WANDB_PROJECT"
   ]
  },
  {
   "cell_type": "code",
   "execution_count": null,
   "id": "e0dedda0-eded-4cfe-a7c5-03a56383eb72",
   "metadata": {},
   "outputs": [],
   "source": []
  }
 ],
 "metadata": {
  "kernelspec": {
   "display_name": "Python 3 (ipykernel)",
   "language": "python",
   "name": "python3"
  },
  "language_info": {
   "codemirror_mode": {
    "name": "ipython",
    "version": 3
   },
   "file_extension": ".py",
   "mimetype": "text/x-python",
   "name": "python",
   "nbconvert_exporter": "python",
   "pygments_lexer": "ipython3",
   "version": "3.9.16"
  }
 },
 "nbformat": 4,
 "nbformat_minor": 5
}
